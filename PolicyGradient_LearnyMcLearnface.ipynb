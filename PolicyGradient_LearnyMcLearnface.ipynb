{
  "nbformat": 4,
  "nbformat_minor": 0,
  "metadata": {
    "colab": {
      "name": "PolicyGradient LearnyMcLearnface.ipynb",
      "provenance": [],
      "collapsed_sections": [],
      "include_colab_link": true
    },
    "kernelspec": {
      "name": "python3",
      "display_name": "Python 3"
    },
    "accelerator": "GPU"
  },
  "cells": [
    {
      "cell_type": "markdown",
      "metadata": {
        "id": "view-in-github",
        "colab_type": "text"
      },
      "source": [
        "<a href=\"https://colab.research.google.com/github/miczed/learny-mc-learnface/blob/master/PolicyGradient_LearnyMcLearnface.ipynb\" target=\"_parent\"><img src=\"https://colab.research.google.com/assets/colab-badge.svg\" alt=\"Open In Colab\"/></a>"
      ]
    },
    {
      "cell_type": "code",
      "metadata": {
        "colab": {
          "base_uri": "https://localhost:8080/"
        },
        "id": "BcY3N7kbqaXy",
        "outputId": "c46433cc-a237-4172-ae99-f9b5b305ebf2"
      },
      "source": [
        "# COPIED FROM ALBERT\n",
        "# installing dependencies\n",
        "# remove > /dev/null 2>&1 if you want to see what is going on under the hood\n",
        "!apt-get install -y python-opengl ffmpeg > /dev/null 2>&1\n",
        "!pip install gym[box2d] pyvirtualdisplay piglet PyOpenGL PyOpenGL-accelerate > /dev/null 2>&1\n",
        "!apt-get install python-opengl -y\n",
        "!apt-get update\n",
        "!sudo apt install xvfb"
      ],
      "execution_count": null,
      "outputs": [
        {
          "output_type": "stream",
          "text": [
            "Reading package lists... Done\n",
            "Building dependency tree       \n",
            "Reading state information... Done\n",
            "python-opengl is already the newest version (3.1.0+dfsg-1).\n",
            "0 upgraded, 0 newly installed, 0 to remove and 67 not upgraded.\n",
            "Hit:1 https://cloud.r-project.org/bin/linux/ubuntu bionic-cran40/ InRelease\n",
            "Ign:2 https://developer.download.nvidia.com/compute/cuda/repos/ubuntu1804/x86_64  InRelease\n",
            "Ign:3 https://developer.download.nvidia.com/compute/machine-learning/repos/ubuntu1804/x86_64  InRelease\n",
            "Get:4 http://security.ubuntu.com/ubuntu bionic-security InRelease [88.7 kB]\n",
            "Hit:5 https://developer.download.nvidia.com/compute/cuda/repos/ubuntu1804/x86_64  Release\n",
            "Hit:6 https://developer.download.nvidia.com/compute/machine-learning/repos/ubuntu1804/x86_64  Release\n",
            "Hit:7 http://ppa.launchpad.net/c2d4u.team/c2d4u4.0+/ubuntu bionic InRelease\n",
            "Hit:9 http://archive.ubuntu.com/ubuntu bionic InRelease\n",
            "Hit:11 http://ppa.launchpad.net/graphics-drivers/ppa/ubuntu bionic InRelease\n",
            "Get:12 http://archive.ubuntu.com/ubuntu bionic-updates InRelease [88.7 kB]\n",
            "Get:13 http://archive.ubuntu.com/ubuntu bionic-backports InRelease [74.6 kB]\n",
            "Fetched 252 kB in 1s (175 kB/s)\n",
            "Reading package lists... Done\n",
            "Reading package lists... Done\n",
            "Building dependency tree       \n",
            "Reading state information... Done\n",
            "xvfb is already the newest version (2:1.19.6-1ubuntu4.8).\n",
            "0 upgraded, 0 newly installed, 0 to remove and 67 not upgraded.\n"
          ],
          "name": "stdout"
        }
      ]
    },
    {
      "cell_type": "code",
      "metadata": {
        "id": "Cvcb9OjxteZr"
      },
      "source": [
        "# installing dependencies\n",
        "# remove > /dev/null 2>&1 if you want to see what is going on under the hood\n",
        "!apt-get install -y xvfb python-opengl ffmpeg > /dev/null 2>&1\n",
        "!pip install gym[box2d] pyvirtualdisplay PyOpenGL PyOpenGL-accelerate > /dev/null 2>&1\n",
        "\n",
        "#@title\n",
        "# imports\n",
        "import gym\n",
        "from gym import logger as gymlogger\n",
        "from gym.wrappers import Monitor\n",
        "gymlogger.set_level(40) # error only\n",
        "import tensorflow as tf\n",
        "import tensorflow_probability as tfp\n",
        "import numpy as np\n",
        "import random\n",
        "import matplotlib\n",
        "import matplotlib.pyplot as plt\n",
        "%matplotlib inline\n",
        "import math\n",
        "import glob\n",
        "import io\n",
        "import base64\n",
        "from IPython.display import HTML\n",
        "from IPython import display as ipythondisplay"
      ],
      "execution_count": null,
      "outputs": []
    },
    {
      "cell_type": "code",
      "metadata": {
        "colab": {
          "base_uri": "https://localhost:8080/"
        },
        "id": "bY4UGajZpuIg",
        "outputId": "7d8a3813-b06a-4d45-d9ba-c8aa1c62bed5"
      },
      "source": [
        "!pip install pyvirtualdisplay\n",
        "!pip install piglet"
      ],
      "execution_count": null,
      "outputs": [
        {
          "output_type": "stream",
          "text": [
            "Requirement already satisfied: pyvirtualdisplay in /usr/local/lib/python3.6/dist-packages (1.3.2)\n",
            "Requirement already satisfied: EasyProcess in /usr/local/lib/python3.6/dist-packages (from pyvirtualdisplay) (0.3)\n",
            "Requirement already satisfied: piglet in /usr/local/lib/python3.6/dist-packages (1.0.0)\n",
            "Requirement already satisfied: piglet-templates in /usr/local/lib/python3.6/dist-packages (from piglet) (1.0.0)\n",
            "Requirement already satisfied: attrs in /usr/local/lib/python3.6/dist-packages (from piglet-templates->piglet) (20.3.0)\n",
            "Requirement already satisfied: astunparse in /usr/local/lib/python3.6/dist-packages (from piglet-templates->piglet) (1.6.3)\n",
            "Requirement already satisfied: markupsafe in /usr/local/lib/python3.6/dist-packages (from piglet-templates->piglet) (1.1.1)\n",
            "Requirement already satisfied: Parsley in /usr/local/lib/python3.6/dist-packages (from piglet-templates->piglet) (1.3)\n",
            "Requirement already satisfied: wheel<1.0,>=0.23.0 in /usr/local/lib/python3.6/dist-packages (from astunparse->piglet-templates->piglet) (0.35.1)\n",
            "Requirement already satisfied: six<2.0,>=1.6.1 in /usr/local/lib/python3.6/dist-packages (from astunparse->piglet-templates->piglet) (1.15.0)\n"
          ],
          "name": "stdout"
        }
      ]
    },
    {
      "cell_type": "code",
      "metadata": {
        "id": "4l2CQINt0ZmG"
      },
      "source": [
        "from pyvirtualdisplay import Display\n",
        "display = Display(visible=0, size=(1400, 900))\n",
        "display.start()\n",
        "from IPython.core.interactiveshell import InteractiveShell\n",
        "InteractiveShell.ast_node_interactivity = \"all\"\n",
        "\n",
        "# This code creates a virtual display to draw game images on. \n",
        "# If you are running locally, just ignore it\n",
        "import os\n",
        "if type(os.environ.get(\"DISPLAY\")) is not str or len(os.environ.get(\"DISPLAY\"))==0:\n",
        "    !bash ../xvfb start\n",
        "    %env DISPLAY=:1"
      ],
      "execution_count": null,
      "outputs": []
    },
    {
      "cell_type": "code",
      "metadata": {
        "colab": {
          "base_uri": "https://localhost:8080/",
          "height": 54
        },
        "id": "1Y5mjFFyzVfi",
        "outputId": "41898365-b977-494e-dbbf-ad460e5394f9"
      },
      "source": [
        "\"\"\"\n",
        "Utility functions to enable video recording of gym environment and displaying it\n",
        "To enable video, just do \"env = wrap_env(env)\"\"\n",
        "\"\"\"\n",
        "\n",
        "def show_video():\n",
        "  mp4list = glob.glob('video/*.mp4')\n",
        "  if len(mp4list) > 0:\n",
        "    mp4 = mp4list[0]\n",
        "    video = io.open(mp4, 'r+b').read()\n",
        "    encoded = base64.b64encode(video)\n",
        "    ipythondisplay.display(HTML(data='''<video alt=\"test\" autoplay \n",
        "                loop controls style=\"height: 400px;\">\n",
        "                <source src=\"data:video/mp4;base64,{0}\" type=\"video/mp4\" />\n",
        "             </video>'''.format(encoded.decode('ascii'))))\n",
        "  else: \n",
        "    print(\"Could not find video\")\n",
        "    \n",
        "\n",
        "def wrap_env(env):\n",
        "  env = Monitor(env, './video', force=True)\n",
        "  return env"
      ],
      "execution_count": null,
      "outputs": [
        {
          "output_type": "execute_result",
          "data": {
            "application/vnd.google.colaboratory.intrinsic+json": {
              "type": "string"
            },
            "text/plain": [
              "'\\nUtility functions to enable video recording of gym environment and displaying it\\nTo enable video, just do \"env = wrap_env(env)\"\"\\n'"
            ]
          },
          "metadata": {
            "tags": []
          },
          "execution_count": 5
        }
      ]
    },
    {
      "cell_type": "code",
      "metadata": {
        "colab": {
          "base_uri": "https://localhost:8080/"
        },
        "id": "U-C-LzHmzToK",
        "outputId": "74accf33-b563-45b7-ae7c-2d33595f59d9"
      },
      "source": [
        "env = gym.make('CarRacing-v0')\n",
        "observation = env.reset()"
      ],
      "execution_count": null,
      "outputs": [
        {
          "output_type": "stream",
          "text": [
            "Track generation: 1112..1394 -> 282-tiles track\n"
          ],
          "name": "stdout"
        }
      ]
    },
    {
      "cell_type": "markdown",
      "metadata": {
        "id": "AMhjOpYC8i8J"
      },
      "source": [
        "The observation returns a 96 x 96 array with RGB values:"
      ]
    },
    {
      "cell_type": "code",
      "metadata": {
        "colab": {
          "base_uri": "https://localhost:8080/"
        },
        "id": "_b9v5rZs0dJK",
        "outputId": "1f3828bd-7c62-4b3c-f8eb-6410de28295c"
      },
      "source": [
        "observation.shape"
      ],
      "execution_count": null,
      "outputs": [
        {
          "output_type": "execute_result",
          "data": {
            "text/plain": [
              "(96, 96, 3)"
            ]
          },
          "metadata": {
            "tags": []
          },
          "execution_count": 7
        }
      ]
    },
    {
      "cell_type": "code",
      "metadata": {
        "colab": {
          "base_uri": "https://localhost:8080/"
        },
        "id": "1h3AuB5e_9QQ",
        "outputId": "fa2a711c-155d-470b-ec8c-9aa85bf439bd"
      },
      "source": [
        "env.action_space"
      ],
      "execution_count": null,
      "outputs": [
        {
          "output_type": "execute_result",
          "data": {
            "text/plain": [
              "Box(-1.0, 1.0, (3,), float32)"
            ]
          },
          "metadata": {
            "tags": []
          },
          "execution_count": 8
        }
      ]
    },
    {
      "cell_type": "markdown",
      "metadata": {
        "id": "VomgRRsm8tgV"
      },
      "source": [
        "Which looks like this if we plot it:"
      ]
    },
    {
      "cell_type": "code",
      "metadata": {
        "colab": {
          "base_uri": "https://localhost:8080/",
          "height": 285
        },
        "id": "kzes6NHW8MYG",
        "outputId": "f97c724d-4701-4c73-91c6-e80b5f200977"
      },
      "source": [
        "plt.imshow(observation)"
      ],
      "execution_count": null,
      "outputs": [
        {
          "output_type": "execute_result",
          "data": {
            "text/plain": [
              "<matplotlib.image.AxesImage at 0x7f906f4694a8>"
            ]
          },
          "metadata": {
            "tags": []
          },
          "execution_count": 9
        },
        {
          "output_type": "display_data",
          "data": {
            "image/png": "[encoded data removed]",
            "text/plain": [
              "<Figure size 432x288 with 1 Axes>"
            ]
          },
          "metadata": {
            "tags": [],
            "needs_background": "light"
          }
        }
      ]
    },
    {
      "cell_type": "code",
      "metadata": {
        "id": "bsIZ-KeN9NM3"
      },
      "source": [
        "def preprocess(observation):\n",
        "    # crop\n",
        "    observation = observation[0:84]  \n",
        "    #greyscale\n",
        "    observation = np.dot(observation[...,:3], [0.2989, 0.5870, 0.1140]) \n",
        "    # downsample\n",
        "    observation = observation[0::2,0::2]\n",
        "    # rescale numbers between 0 and 1\n",
        "    max_val =observation.max() if observation.max()> abs(observation.min()) else abs(observation.min())\n",
        "    if max_val != 0:\n",
        "        observation=observation/max_val  \n",
        "    return observation.astype(np.float32)"
      ],
      "execution_count": null,
      "outputs": []
    },
    {
      "cell_type": "code",
      "metadata": {
        "colab": {
          "base_uri": "https://localhost:8080/"
        },
        "id": "mjNYle-h9c-9",
        "outputId": "c499110d-ea63-4b6a-b1d0-cb93c214e954"
      },
      "source": [
        "random_action = env.action_space.sample()\n",
        "random_action\n",
        "observation, reward,done,info = env.step(random_action)"
      ],
      "execution_count": null,
      "outputs": [
        {
          "output_type": "execute_result",
          "data": {
            "text/plain": [
              "array([0.4954058 , 0.17857105, 0.41667834], dtype=float32)"
            ]
          },
          "metadata": {
            "tags": []
          },
          "execution_count": 11
        }
      ]
    },
    {
      "cell_type": "code",
      "metadata": {
        "id": "8Gyse3n5KkDL"
      },
      "source": [
        "# do nothing for a couple of frames to wait until initial zoom-in animation is done\n",
        "for x in range(15):\n",
        "  observation, reward,done,info = env.step([0.0,0.0,0.0])"
      ],
      "execution_count": null,
      "outputs": []
    },
    {
      "cell_type": "code",
      "metadata": {
        "colab": {
          "base_uri": "https://localhost:8080/"
        },
        "id": "iN_D-oASAWQk",
        "outputId": "a88bc65d-4315-4108-c0f4-44233dd14206"
      },
      "source": [
        "#@title\n",
        "processed_observation = preprocess(observation)\n",
        "processed_observation.shape"
      ],
      "execution_count": null,
      "outputs": [
        {
          "output_type": "execute_result",
          "data": {
            "text/plain": [
              "(42, 48)"
            ]
          },
          "metadata": {
            "tags": []
          },
          "execution_count": 13
        }
      ]
    },
    {
      "cell_type": "code",
      "metadata": {
        "colab": {
          "base_uri": "https://localhost:8080/",
          "height": 284
        },
        "id": "60iGkyUyQw37",
        "outputId": "96e703e3-5d7a-4961-c682-b8f43069cf9e"
      },
      "source": [
        "plt.imshow(processed_observation,plt.cm.gray )"
      ],
      "execution_count": null,
      "outputs": [
        {
          "output_type": "execute_result",
          "data": {
            "text/plain": [
              "<matplotlib.image.AxesImage at 0x7f906efbd160>"
            ]
          },
          "metadata": {
            "tags": []
          },
          "execution_count": 14
        },
        {
          "output_type": "display_data",
          "data": {
            "image/png": "[encoded data removed]",
            "text/plain": [
              "<Figure size 432x288 with 1 Axes>"
            ]
          },
          "metadata": {
            "tags": [],
            "needs_background": "light"
          }
        }
      ]
    },
    {
      "cell_type": "markdown",
      "metadata": {
        "id": "0NDQ_3FGzGA2"
      },
      "source": [
        "The Network consists of three layers."
      ]
    },
    {
      "cell_type": "code",
      "metadata": {
        "id": "Rr2imKsJyCui"
      },
      "source": [
        "class PolicyGradientNetwork(tf.keras.Model):\n",
        "    def __init__(self, n_actions, fc1_dims=256, fc2_dims=256):\n",
        "        super(PolicyGradientNetwork, self).__init__()\n",
        "        # is an integer since we're dealing with a discrete action space (policy gradient methods are best for this)\n",
        "        self.n_actions = n_actions\n",
        "        self.fc1_dims = fc1_dims\n",
        "        self.fc2_dims = fc2_dims\n",
        "\n",
        "        # layers\n",
        "        self.fc1 = tf.keras.layers.Dense(self.fc1_dims, activation='relu')\n",
        "        self.fc2 = tf.keras.layers.Dense(self.fc2_dims, activation='relu')\n",
        "\n",
        "        # will hold the policy, a probability distribution (sum = 1)\n",
        "        self.pi = tf.keras.layers.Dense(self.n_actions, activation='softmax')\n",
        "\n",
        "    def call(self, state):\n",
        "        value = self.fc1(state)\n",
        "        value = self.fc2(value)\n",
        "\n",
        "        pi = self.pi(value)\n",
        "        return pi\n"
      ],
      "execution_count": null,
      "outputs": []
    },
    {
      "cell_type": "code",
      "metadata": {
        "id": "PRRE7ftqoKRx"
      },
      "source": [
        "class Agent:\n",
        "    # alpha = learning rate\n",
        "    # gamma = discount factor\n",
        "    def __init__(self, alpha=0.003, gamma=0.99, n_actions=4, fc1_dims=256, fc2_dims=256):\n",
        "        self.gamma = gamma\n",
        "        self.alpha = alpha\n",
        "        self.n_actions = n_actions\n",
        "        self.state_memory = []\n",
        "        self.action_memory = []\n",
        "        self.reward_memory = []\n",
        "        self.policy = PolicyGradientNetwork(n_actions=n_actions, fc1_dims=fc1_dims, fc2_dims=fc2_dims)\n",
        "        self.policy.compile(optimizer=tf.keras.optimizers.Adam(learning_rate=self.alpha))\n",
        "        self.training_step = 0\n",
        "\n",
        "    def choose_action(self, observation):\n",
        "        state = tf.convert_to_tensor(observation, dtype=tf.float32)\n",
        "        probs = self.policy(state)\n",
        "        # categorical is used here since we have a set of discrete classes with some probability defined by probs\n",
        "        action_probs = tfp.distributions.Categorical(probs=probs)\n",
        "        action = action_probs.sample()\n",
        "\n",
        "        # convert tensorflow tensor back to numpy array for our environment\n",
        "        return action.numpy()[0][0]\n",
        "\n",
        "    def store_transition(self, observation, action, reward):\n",
        "        self.state_memory.append(observation)\n",
        "        self.action_memory.append(action)\n",
        "        self.reward_memory.append(reward)\n",
        "\n",
        "    def learn(self):\n",
        "        # convert the actions and rewards to a tensorflow tensor\n",
        "        actions = tf.convert_to_tensor(self.action_memory, dtype=tf.float32)\n",
        "        rewards = tf.convert_to_tensor(self.reward_memory)\n",
        "\n",
        "        # calculate the discounted sum of future rewards for each timestep\n",
        "        # discounting it ensures that the sum is finite in an infinite setting\n",
        "        G = np.zeros_like(rewards)\n",
        "        for t in range(len(rewards)):\n",
        "            G_sum = 0\n",
        "            discount = 1\n",
        "            for k in range(t, len(rewards)):\n",
        "                # sum of all rewards with discount applied\n",
        "                G_sum += rewards[k] * discount\n",
        "                # increasing the discount factor at each timestep\n",
        "                discount *= self.gamma\n",
        "                G[t] = G_sum\n",
        "        # allows us to calculate the gradient\n",
        "        with tf.GradientTape() as tape:\n",
        "            loss = 0\n",
        "            for idx, (g, state) in enumerate(zip(G, self.state_memory)):\n",
        "                state = tf.convert_to_tensor([state], dtype=tf.float32)\n",
        "                probs = self.policy(state)\n",
        "                action_probs = tfp.distributions.Categorical(probs=probs)\n",
        "                log_prob = action_probs.log_prob(actions[idx])\n",
        "                # gradient ascent algorithm because we want to maximize total score\n",
        "                loss += -g * tf.squeeze(log_prob)  # squeeze it to get it back to a scalar quantity\n",
        "        gradient = tape.gradient(loss, self.policy.trainable_variables)\n",
        "        self.policy.optimizer.apply_gradients(zip(gradient, self.policy.trainable_variables))\n",
        "\n",
        "        # clear memory\n",
        "        self.state_memory = []\n",
        "        self.action_memory = []\n",
        "        self.reward_memory = []\n",
        "\n",
        "    def load_checkpoint(self,checkpoint_path):\n",
        "        print('... Loading Checkpoint ...')\n",
        "        self.policy.load_weights(checkpoint_path.format(epoch=0))\n",
        "\n",
        "    def save_best_checkpoint(self,checkpoint_path,weights):\n",
        "        print('... Saving Checkpoint ...')\n",
        "        self.policy.set_weights(weights)\n",
        "        self.policy.save_weights(checkpoint_path.format(epoch=0))\n",
        "    def save_last_checkpoint(self,checkpoint_path):\n",
        "        print('... Saving Checkpoint ...')\n",
        "        self.policy.save_weights(checkpoint_path.format(epoch=0))"
      ],
      "execution_count": null,
      "outputs": []
    },
    {
      "cell_type": "code",
      "metadata": {
        "id": "KAiwQ-o2lHIo"
      },
      "source": [
        "class Env():\n",
        "    \"\"\"\n",
        "    Environment wrapper for CarRacing\n",
        "    \"\"\"\n",
        "\n",
        "    def __init__(self, repeat_actions=8, img_stack=4):\n",
        "        self.env = gym.make('CarRacing-v0')\n",
        "        self.reward_threshold = self.env.spec.reward_threshold\n",
        "        self.repeat_actions = repeat_actions\n",
        "        self.img_stack = img_stack\n",
        "\n",
        "    def reset(self):\n",
        "        self.counter = 0\n",
        "        self.av_r = self.reward_memory()\n",
        "\n",
        "        self.die = False\n",
        "        img_rgb = self.env.reset()\n",
        "        img_gray = self.preprocess(img_rgb)\n",
        "        self.stack = [img_gray] * self.img_stack  # four frames for decision\n",
        "        return np.array(self.stack)\n",
        "\n",
        "    def step(self, action):\n",
        "        total_reward = 0\n",
        "        for i in range(self.repeat_actions):\n",
        "            img_rgb, reward, die, _ = self.env.step(action)\n",
        "            # don't penalize \"die state\"\n",
        "            if die:\n",
        "                reward += 100\n",
        "            # green penalty\n",
        "            if np.mean(img_rgb[:, :, 1]) > 185.0:\n",
        "                reward -= 0.05\n",
        "            total_reward += reward\n",
        "            # if no reward recently, end the episode\n",
        "            done = True if self.av_r(reward) <= -0.1 else False\n",
        "            if done or die:\n",
        "                break\n",
        "        img = self.preprocess(img_rgb)\n",
        "        self.stack.pop(0)\n",
        "        self.stack.append(img)\n",
        "        assert len(self.stack) == self.img_stack\n",
        "        return np.array(self.stack), total_reward, done, die\n",
        "\n",
        "    def render(self, *arg):\n",
        "        self.env.render(*arg)\n",
        "\n",
        "    @staticmethod\n",
        "    def preprocess(observation):\n",
        "        # crop\n",
        "        observation = observation[0:84]\n",
        "        # greyscale\n",
        "        observation = np.dot(observation[..., :3], [0.2989, 0.5870, 0.1140])\n",
        "        # downsample\n",
        "        observation = observation[0::2, 0::2]\n",
        "        # rescale numbers between 0 and 1\n",
        "        max_val = observation.max() if observation.max() > abs(observation.min()) else abs(observation.min())\n",
        "        if max_val != 0:\n",
        "            observation = observation / max_val\n",
        "        return observation.astype(np.float32)\n",
        "\n",
        "\n",
        "    @staticmethod\n",
        "    def reward_memory():\n",
        "        # record reward for last 100 steps\n",
        "        count = 0\n",
        "        length = 100\n",
        "        history = np.zeros(length)\n",
        "\n",
        "        def memory(reward):\n",
        "            nonlocal count\n",
        "            history[count] = reward\n",
        "            count = (count + 1) % length\n",
        "            return np.mean(history)\n",
        "\n",
        "        return memory"
      ],
      "execution_count": null,
      "outputs": []
    },
    {
      "cell_type": "markdown",
      "metadata": {
        "id": "cRXU3UGSy_19"
      },
      "source": [
        "Todo: find a way to convert continuous action space to discrete action space"
      ]
    },
    {
      "cell_type": "code",
      "metadata": {
        "id": "Rir1HYR7_Ken"
      },
      "source": [
        "def continuize_action(action):\n",
        "    if action == 0: action = [0, 0, 0.0]  # Nothing\n",
        "    if action == 1: action = [-1, 0, 0.0]  # Left\n",
        "    if action == 2: action = [+1, 0, 0.0]  # Right\n",
        "    if action == 3: action = [0, +1, 0.0]  # Accelerate\n",
        "    if action == 4: action = [0, 0, 0.8]  # break\n",
        "    return action"
      ],
      "execution_count": null,
      "outputs": []
    },
    {
      "cell_type": "code",
      "metadata": {
        "id": "MsCP8VDvxCJ7"
      },
      "source": [
        "best_weights=0\n",
        "best_score=0"
      ],
      "execution_count": null,
      "outputs": []
    },
    {
      "cell_type": "code",
      "metadata": {
        "colab": {
          "base_uri": "https://localhost:8080/"
        },
        "id": "8q52RlmmlNf_",
        "outputId": "9b52b5fc-a515-48b4-a8a4-5bfc5fe41d3f"
      },
      "source": [
        "env = Env()\n",
        "agent = Agent(alpha=0.0005, gamma=0.99, n_actions=5, fc1_dims=96,fc2_dims=96)\n",
        "score_history = []\n",
        "\n",
        "n_episodes = 200\n",
        "running_score = 0\n",
        "state = env.reset()\n",
        "#Load model if you have one, if it is the first iteration, set to false\n",
        "load_dummy=True\n",
        "checkpoint_path = \"training_1/cp.ckpt\"\n",
        "checkpoint_dir = os.path.dirname(checkpoint_path)\n",
        "\n",
        "for i in range(n_episodes):\n",
        "    if load_dummy==True:\n",
        "        agent.load_checkpoint(checkpoint_dir)\n",
        "        load_dummy=False\n",
        "    #Recall the last best reward\n",
        "        #f= open(\"rewards.txt\", \"r\")\n",
        "        #last_line=f.readlines()[-1]\n",
        "        #idx=last_line.find(' \\n')\n",
        "        #highest_score=float(last_line[0:idx])\n",
        "        #f.close()\n",
        "\n",
        "    score = 0\n",
        "    observation = env.reset()\n",
        "\n",
        "    for t in range(1000):\n",
        "        discrete_action = agent.choose_action(observation)\n",
        "        continuous_action = continuize_action(discrete_action)\n",
        "        observation_, reward, done, die = env.step(continuous_action)\n",
        "        env.render()\n",
        "        agent.store_transition(observation, discrete_action, reward)\n",
        "        score += reward\n",
        "        observation = observation_\n",
        "        if done or die:\n",
        "            break\n",
        "    #if highest_score<score:\n",
        "    #    highest_score=score\n",
        "    #    best_weights=agent.policy.get_weights()\n",
        "    agent.learn()\n",
        "    running_score = running_score * 0.99 + score * 0.01\n",
        "    score_history.append(score)\n",
        "    avg_score = np.mean(score_history[-100:])\n",
        "    if (i+1)%25==0:\n",
        "    #This code saves the best weights (when higher_score>score for all score)\n",
        "        #agent.save_best_checkpoint(checkpoint_dir,best_weights)\n",
        "        #print(\"with score equal to: %.1f\" % highest_score)\n",
        "    #This code allows to access the last weights that were used (regardless the score they had)\n",
        "        agent.save_last_checkpoint(checkpoint_dir)\n",
        "        f = open(\"rewards.txt\", \"at\")\n",
        "        f.write(\"%.1f \\n\" % score)\n",
        "        f.close()\n",
        "    print('episode ', i+1, 'score %.1f' % score, 'avg score %.1f' % avg_score, 'running score: %.1f' % running_score)\n"
      ],
      "execution_count": null,
      "outputs": [
        {
          "output_type": "stream",
          "text": [
            "Track generation: 1145..1435 -> 290-tiles track\n",
            "... Loading Checkpoint ...\n",
            "Track generation: 1261..1581 -> 320-tiles track\n",
            "episode  1 score 17.6 avg score 17.6 running score: 0.2\n",
            "Track generation: 1085..1360 -> 275-tiles track\n",
            "episode  2 score 26.1 avg score 21.9 running score: 0.4\n",
            "Track generation: 1055..1330 -> 275-tiles track\n",
            "episode  3 score 11.4 avg score 18.4 running score: 0.5\n",
            "Track generation: 1154..1454 -> 300-tiles track\n",
            "episode  4 score 34.9 avg score 22.5 running score: 0.9\n",
            "Track generation: 904..1144 -> 240-tiles track\n",
            "episode  5 score 37.3 avg score 25.5 running score: 1.3\n",
            "Track generation: 1167..1463 -> 296-tiles track\n",
            "episode  6 score 30.9 avg score 26.4 running score: 1.5\n",
            "Track generation: 1108..1389 -> 281-tiles track\n",
            "episode  7 score 3.3 avg score 23.1 running score: 1.6\n",
            "Track generation: 1179..1478 -> 299-tiles track\n",
            "episode  8 score 19.5 avg score 22.6 running score: 1.7\n",
            "Track generation: 853..1073 -> 220-tiles track\n",
            "retry to generate track (normal if there are not manyinstances of this message)\n",
            "Track generation: 1000..1254 -> 254-tiles track\n",
            "episode  9 score 50.5 avg score 25.7 running score: 2.2\n",
            "Track generation: 1197..1510 -> 313-tiles track\n",
            "episode  10 score 55.2 avg score 28.7 running score: 2.8\n",
            "Track generation: 1251..1568 -> 317-tiles track\n",
            "episode  11 score 13.1 avg score 27.2 running score: 2.9\n",
            "Track generation: 1096..1376 -> 280-tiles track\n",
            "retry to generate track (normal if there are not manyinstances of this message)\n",
            "Track generation: 1221..1530 -> 309-tiles track\n",
            "episode  12 score 24.5 avg score 27.0 running score: 3.1\n",
            "Track generation: 1065..1336 -> 271-tiles track\n",
            "episode  13 score 11.7 avg score 25.8 running score: 3.2\n",
            "Track generation: 1119..1402 -> 283-tiles track\n",
            "episode  14 score 25.2 avg score 25.8 running score: 3.4\n",
            "Track generation: 1047..1313 -> 266-tiles track\n",
            "episode  15 score 7.7 avg score 24.6 running score: 3.4\n",
            "Track generation: 1165..1460 -> 295-tiles track\n",
            "episode  16 score 18.9 avg score 24.2 running score: 3.6\n",
            "Track generation: 1268..1589 -> 321-tiles track\n",
            "episode  17 score 31.6 avg score 24.7 running score: 3.9\n",
            "Track generation: 1229..1540 -> 311-tiles track\n",
            "episode  18 score 43.9 avg score 25.7 running score: 4.3\n",
            "Track generation: 1016..1280 -> 264-tiles track\n",
            "episode  19 score 36.6 avg score 26.3 running score: 4.6\n",
            "Track generation: 1035..1298 -> 263-tiles track\n",
            "episode  20 score 11.3 avg score 25.6 running score: 4.7\n",
            "Track generation: 1303..1633 -> 330-tiles track\n",
            "episode  21 score 0.7 avg score 24.4 running score: 4.6\n",
            "Track generation: 1239..1553 -> 314-tiles track\n",
            "episode  22 score 6.1 avg score 23.5 running score: 4.6\n",
            "Track generation: 1117..1400 -> 283-tiles track\n",
            "episode  23 score 24.7 avg score 23.6 running score: 4.8\n",
            "Track generation: 1272..1594 -> 322-tiles track\n",
            "episode  24 score 12.9 avg score 23.2 running score: 4.9\n",
            "Track generation: 1222..1532 -> 310-tiles track\n",
            "... Saving Checkpoint ...\n"
          ],
          "name": "stdout"
        },
        {
          "output_type": "execute_result",
          "data": {
            "text/plain": [
              "5"
            ]
          },
          "metadata": {
            "tags": []
          },
          "execution_count": 20
        },
        {
          "output_type": "stream",
          "text": [
            "episode  25 score 9.0 avg score 22.6 running score: 5.0\n",
            "Track generation: 1236..1549 -> 313-tiles track\n",
            "episode  26 score 29.3 avg score 22.8 running score: 5.2\n",
            "Track generation: 1286..1612 -> 326-tiles track\n",
            "episode  27 score 28.1 avg score 23.0 running score: 5.4\n",
            "Track generation: 1323..1658 -> 335-tiles track\n",
            "episode  28 score -0.7 avg score 22.2 running score: 5.4\n",
            "Track generation: 1231..1543 -> 312-tiles track\n",
            "episode  29 score 13.3 avg score 21.9 running score: 5.4\n",
            "Track generation: 1228..1539 -> 311-tiles track\n",
            "episode  30 score 32.4 avg score 22.2 running score: 5.7\n",
            "Track generation: 1151..1443 -> 292-tiles track\n",
            "episode  31 score 57.1 avg score 23.4 running score: 6.2\n",
            "Track generation: 1119..1403 -> 284-tiles track\n",
            "episode  32 score 9.4 avg score 22.9 running score: 6.3\n",
            "Track generation: 1243..1558 -> 315-tiles track\n",
            "episode  33 score 29.7 avg score 23.1 running score: 6.5\n",
            "Track generation: 1143..1433 -> 290-tiles track\n",
            "episode  34 score 47.6 avg score 23.8 running score: 6.9\n",
            "Track generation: 1175..1473 -> 298-tiles track\n",
            "episode  35 score 24.2 avg score 23.9 running score: 7.1\n",
            "Track generation: 1167..1463 -> 296-tiles track\n",
            "episode  36 score 25.5 avg score 23.9 running score: 7.3\n",
            "Track generation: 1149..1441 -> 292-tiles track\n",
            "episode  37 score 15.4 avg score 23.7 running score: 7.3\n",
            "Track generation: 1201..1505 -> 304-tiles track\n",
            "episode  38 score 48.0 avg score 24.3 running score: 7.8\n",
            "Track generation: 1143..1433 -> 290-tiles track\n",
            "episode  39 score 25.5 avg score 24.3 running score: 7.9\n",
            "Track generation: 1055..1334 -> 279-tiles track\n",
            "retry to generate track (normal if there are not manyinstances of this message)\n",
            "Track generation: 1336..1674 -> 338-tiles track\n",
            "episode  40 score 3.8 avg score 23.8 running score: 7.9\n",
            "Track generation: 1026..1295 -> 269-tiles track\n",
            "episode  41 score 13.8 avg score 23.6 running score: 7.9\n",
            "Track generation: 973..1221 -> 248-tiles track\n",
            "episode  42 score 80.5 avg score 24.9 running score: 8.7\n",
            "Track generation: 1068..1339 -> 271-tiles track\n",
            "episode  43 score 50.9 avg score 25.5 running score: 9.1\n",
            "Track generation: 1161..1455 -> 294-tiles track\n",
            "episode  44 score 16.7 avg score 25.3 running score: 9.2\n",
            "Track generation: 911..1151 -> 240-tiles track\n",
            "episode  45 score 100.0 avg score 27.0 running score: 10.1\n",
            "Track generation: 1278..1608 -> 330-tiles track\n",
            "episode  46 score 2.7 avg score 26.5 running score: 10.0\n",
            "Track generation: 1020..1286 -> 266-tiles track\n",
            "episode  47 score 17.1 avg score 26.3 running score: 10.1\n",
            "Track generation: 1107..1388 -> 281-tiles track\n",
            "episode  48 score 22.8 avg score 26.2 running score: 10.2\n",
            "Track generation: 1199..1503 -> 304-tiles track\n",
            "episode  49 score 33.0 avg score 26.3 running score: 10.4\n",
            "Track generation: 1081..1361 -> 280-tiles track\n",
            "... Saving Checkpoint ...\n"
          ],
          "name": "stdout"
        },
        {
          "output_type": "execute_result",
          "data": {
            "text/plain": [
              "6"
            ]
          },
          "metadata": {
            "tags": []
          },
          "execution_count": 20
        },
        {
          "output_type": "stream",
          "text": [
            "episode  50 score 25.2 avg score 26.3 running score: 10.6\n",
            "Track generation: 1094..1376 -> 282-tiles track\n",
            "episode  51 score 18.9 avg score 26.2 running score: 10.7\n",
            "Track generation: 1295..1623 -> 328-tiles track\n",
            "episode  52 score 27.7 avg score 26.2 running score: 10.8\n",
            "Track generation: 965..1212 -> 247-tiles track\n",
            "retry to generate track (normal if there are not manyinstances of this message)\n",
            "Track generation: 1111..1393 -> 282-tiles track\n",
            "episode  53 score 37.9 avg score 26.4 running score: 11.1\n",
            "Track generation: 1099..1386 -> 287-tiles track\n",
            "episode  54 score 9.9 avg score 26.1 running score: 11.1\n",
            "Track generation: 1125..1410 -> 285-tiles track\n",
            "episode  55 score 2.2 avg score 25.7 running score: 11.0\n",
            "Track generation: 1128..1414 -> 286-tiles track\n",
            "episode  56 score 9.7 avg score 25.4 running score: 11.0\n",
            "Track generation: 1280..1604 -> 324-tiles track\n",
            "episode  57 score 3.6 avg score 25.0 running score: 10.9\n",
            "Track generation: 1081..1355 -> 274-tiles track\n",
            "episode  58 score 23.7 avg score 25.0 running score: 11.0\n",
            "Track generation: 1333..1670 -> 337-tiles track\n",
            "episode  59 score 29.6 avg score 25.1 running score: 11.2\n",
            "Track generation: 1304..1634 -> 330-tiles track\n",
            "episode  60 score 37.3 avg score 25.3 running score: 11.5\n",
            "Track generation: 1204..1509 -> 305-tiles track\n",
            "episode  61 score 15.0 avg score 25.1 running score: 11.5\n",
            "Track generation: 1172..1469 -> 297-tiles track\n",
            "retry to generate track (normal if there are not manyinstances of this message)\n",
            "Track generation: 1104..1384 -> 280-tiles track\n",
            "episode  62 score 40.1 avg score 25.3 running score: 11.8\n",
            "Track generation: 1160..1454 -> 294-tiles track\n",
            "episode  63 score 3.7 avg score 25.0 running score: 11.7\n",
            "Track generation: 1049..1325 -> 276-tiles track\n",
            "episode  64 score 20.0 avg score 24.9 running score: 11.8\n",
            "Track generation: 1161..1459 -> 298-tiles track\n",
            "retry to generate track (normal if there are not manyinstances of this message)\n",
            "Track generation: 992..1244 -> 252-tiles track\n",
            "episode  65 score 10.7 avg score 24.7 running score: 11.8\n",
            "Track generation: 1123..1408 -> 285-tiles track\n",
            "episode  66 score 37.9 avg score 24.9 running score: 12.1\n",
            "Track generation: 1275..1598 -> 323-tiles track\n",
            "episode  67 score -18.0 avg score 24.3 running score: 11.8\n",
            "Track generation: 1373..1721 -> 348-tiles track\n",
            "episode  68 score 6.2 avg score 24.0 running score: 11.7\n",
            "Track generation: 1247..1563 -> 316-tiles track\n",
            "episode  69 score 30.3 avg score 24.1 running score: 11.9\n",
            "Track generation: 1103..1383 -> 280-tiles track\n",
            "episode  70 score 13.1 avg score 23.9 running score: 11.9\n",
            "Track generation: 1135..1423 -> 288-tiles track\n",
            "episode  71 score 0.3 avg score 23.6 running score: 11.8\n",
            "Track generation: 1311..1645 -> 334-tiles track\n",
            "retry to generate track (normal if there are not manyinstances of this message)\n",
            "Track generation: 999..1252 -> 253-tiles track\n",
            "episode  72 score 13.9 avg score 23.5 running score: 11.8\n",
            "Track generation: 1213..1520 -> 307-tiles track\n",
            "episode  73 score 12.9 avg score 23.3 running score: 11.8\n",
            "Track generation: 1099..1378 -> 279-tiles track\n",
            "episode  74 score 15.4 avg score 23.2 running score: 11.9\n",
            "Track generation: 1173..1470 -> 297-tiles track\n",
            "... Saving Checkpoint ...\n"
          ],
          "name": "stdout"
        },
        {
          "output_type": "execute_result",
          "data": {
            "text/plain": [
              "6"
            ]
          },
          "metadata": {
            "tags": []
          },
          "execution_count": 20
        },
        {
          "output_type": "stream",
          "text": [
            "episode  75 score 30.3 avg score 23.3 running score: 12.0\n",
            "Track generation: 1144..1441 -> 297-tiles track\n",
            "episode  76 score 5.1 avg score 23.1 running score: 12.0\n",
            "Track generation: 1047..1313 -> 266-tiles track\n",
            "episode  77 score 27.3 avg score 23.1 running score: 12.1\n",
            "Track generation: 1222..1532 -> 310-tiles track\n",
            "episode  78 score 0.5 avg score 22.8 running score: 12.0\n",
            "Track generation: 1145..1435 -> 290-tiles track\n",
            "episode  79 score 24.0 avg score 22.8 running score: 12.1\n",
            "Track generation: 1147..1444 -> 297-tiles track\n",
            "episode  80 score 12.3 avg score 22.7 running score: 12.1\n",
            "Track generation: 1193..1501 -> 308-tiles track\n",
            "retry to generate track (normal if there are not manyinstances of this message)\n",
            "Track generation: 1060..1337 -> 277-tiles track\n",
            "episode  81 score 63.3 avg score 23.2 running score: 12.6\n",
            "Track generation: 1176..1474 -> 298-tiles track\n",
            "episode  82 score 25.0 avg score 23.2 running score: 12.8\n",
            "Track generation: 1145..1435 -> 290-tiles track\n",
            "episode  83 score 9.2 avg score 23.1 running score: 12.7\n",
            "Track generation: 1049..1323 -> 274-tiles track\n",
            "episode  84 score 11.9 avg score 22.9 running score: 12.7\n",
            "Track generation: 1352..1694 -> 342-tiles track\n",
            "episode  85 score 38.4 avg score 23.1 running score: 13.0\n",
            "Track generation: 1158..1452 -> 294-tiles track\n",
            "episode  86 score 5.7 avg score 22.9 running score: 12.9\n",
            "Track generation: 1168..1464 -> 296-tiles track\n",
            "episode  87 score 44.9 avg score 23.2 running score: 13.2\n",
            "Track generation: 1112..1394 -> 282-tiles track\n",
            "episode  88 score 3.1 avg score 22.9 running score: 13.1\n",
            "Track generation: 1272..1594 -> 322-tiles track\n",
            "episode  89 score 19.3 avg score 22.9 running score: 13.2\n",
            "Track generation: 1114..1397 -> 283-tiles track\n",
            "episode  90 score 95.7 avg score 23.7 running score: 14.0\n",
            "Track generation: 1292..1619 -> 327-tiles track\n",
            "episode  91 score 11.9 avg score 23.6 running score: 14.0\n",
            "Track generation: 1202..1514 -> 312-tiles track\n",
            "episode  92 score 35.0 avg score 23.7 running score: 14.2\n",
            "Track generation: 1185..1485 -> 300-tiles track\n",
            "episode  93 score -2.1 avg score 23.4 running score: 14.0\n",
            "Track generation: 1177..1475 -> 298-tiles track\n",
            "episode  94 score -18.5 avg score 23.0 running score: 13.7\n",
            "Track generation: 1276..1599 -> 323-tiles track\n",
            "episode  95 score 15.5 avg score 22.9 running score: 13.7\n",
            "Track generation: 1039..1303 -> 264-tiles track\n",
            "episode  96 score -15.9 avg score 22.5 running score: 13.4\n",
            "Track generation: 1131..1418 -> 287-tiles track\n",
            "episode  97 score 23.0 avg score 22.5 running score: 13.5\n",
            "Track generation: 1300..1629 -> 329-tiles track\n",
            "episode  98 score -17.8 avg score 22.1 running score: 13.2\n",
            "Track generation: 1159..1461 -> 302-tiles track\n",
            "episode  99 score 36.4 avg score 22.2 running score: 13.4\n",
            "Track generation: 882..1112 -> 230-tiles track\n",
            "... Saving Checkpoint ...\n"
          ],
          "name": "stdout"
        },
        {
          "output_type": "execute_result",
          "data": {
            "text/plain": [
              "6"
            ]
          },
          "metadata": {
            "tags": []
          },
          "execution_count": 20
        },
        {
          "output_type": "stream",
          "text": [
            "episode  100 score -2.4 avg score 22.0 running score: 13.3\n",
            "Track generation: 1164..1459 -> 295-tiles track\n",
            "episode  101 score 17.2 avg score 22.0 running score: 13.3\n",
            "Track generation: 1205..1510 -> 305-tiles track\n",
            "episode  102 score -18.1 avg score 21.5 running score: 13.0\n",
            "Track generation: 1287..1613 -> 326-tiles track\n",
            "episode  103 score 8.3 avg score 21.5 running score: 13.0\n",
            "Track generation: 963..1208 -> 245-tiles track\n",
            "episode  104 score 10.6 avg score 21.3 running score: 12.9\n",
            "Track generation: 1132..1424 -> 292-tiles track\n",
            "episode  105 score 6.0 avg score 21.0 running score: 12.9\n",
            "Track generation: 949..1199 -> 250-tiles track\n",
            "episode  106 score -0.2 avg score 20.6 running score: 12.7\n",
            "Track generation: 1196..1499 -> 303-tiles track\n",
            "episode  107 score 15.4 avg score 20.8 running score: 12.8\n",
            "Track generation: 1036..1299 -> 263-tiles track\n",
            "episode  108 score 1.6 avg score 20.6 running score: 12.7\n",
            "Track generation: 1186..1487 -> 301-tiles track\n",
            "episode  109 score -18.2 avg score 19.9 running score: 12.3\n",
            "Track generation: 1193..1495 -> 302-tiles track\n",
            "episode  110 score 12.0 avg score 19.5 running score: 12.3\n",
            "Track generation: 1156..1449 -> 293-tiles track\n",
            "episode  111 score 18.3 avg score 19.5 running score: 12.4\n",
            "Track generation: 1083..1358 -> 275-tiles track\n",
            "episode  112 score 15.9 avg score 19.4 running score: 12.4\n",
            "Track generation: 996..1252 -> 256-tiles track\n",
            "retry to generate track (normal if there are not manyinstances of this message)\n",
            "Track generation: 1163..1463 -> 300-tiles track\n",
            "episode  113 score -6.5 avg score 19.3 running score: 12.2\n",
            "Track generation: 1168..1464 -> 296-tiles track\n",
            "episode  114 score -11.6 avg score 18.9 running score: 12.0\n",
            "Track generation: 1247..1563 -> 316-tiles track\n",
            "episode  115 score 12.2 avg score 18.9 running score: 12.0\n",
            "Track generation: 1151..1446 -> 295-tiles track\n",
            "retry to generate track (normal if there are not manyinstances of this message)\n",
            "Track generation: 1042..1316 -> 274-tiles track\n",
            "episode  116 score 25.5 avg score 19.0 running score: 12.1\n",
            "Track generation: 1083..1364 -> 281-tiles track\n",
            "episode  117 score 9.4 avg score 18.8 running score: 12.1\n",
            "Track generation: 1155..1448 -> 293-tiles track\n",
            "episode  118 score 11.3 avg score 18.4 running score: 12.1\n",
            "Track generation: 1278..1602 -> 324-tiles track\n",
            "episode  119 score 1.0 avg score 18.1 running score: 12.0\n",
            "Track generation: 1197..1501 -> 304-tiles track\n",
            "episode  120 score 22.2 avg score 18.2 running score: 12.1\n",
            "Track generation: 1095..1373 -> 278-tiles track\n",
            "episode  121 score 41.2 avg score 18.6 running score: 12.4\n",
            "Track generation: 1116..1399 -> 283-tiles track\n",
            "episode  122 score -0.5 avg score 18.5 running score: 12.3\n",
            "Track generation: 1256..1574 -> 318-tiles track\n",
            "episode  123 score 14.6 avg score 18.4 running score: 12.3\n",
            "Track generation: 1235..1548 -> 313-tiles track\n",
            "episode  124 score 18.4 avg score 18.5 running score: 12.3\n",
            "Track generation: 1079..1353 -> 274-tiles track\n",
            "... Saving Checkpoint ...\n"
          ],
          "name": "stdout"
        },
        {
          "output_type": "execute_result",
          "data": {
            "text/plain": [
              "6"
            ]
          },
          "metadata": {
            "tags": []
          },
          "execution_count": 20
        },
        {
          "output_type": "stream",
          "text": [
            "episode  125 score 55.7 avg score 19.0 running score: 12.8\n",
            "Track generation: 1363..1708 -> 345-tiles track\n",
            "episode  126 score -2.9 avg score 18.6 running score: 12.6\n",
            "Track generation: 1040..1313 -> 273-tiles track\n",
            "episode  127 score -2.6 avg score 18.3 running score: 12.5\n",
            "Track generation: 949..1197 -> 248-tiles track\n",
            "episode  128 score -18.0 avg score 18.2 running score: 12.2\n",
            "Track generation: 1271..1593 -> 322-tiles track\n",
            "episode  129 score 15.4 avg score 18.2 running score: 12.2\n",
            "Track generation: 1109..1398 -> 289-tiles track\n",
            "episode  130 score 11.7 avg score 18.0 running score: 12.2\n",
            "Track generation: 1047..1313 -> 266-tiles track\n",
            "episode  131 score -18.1 avg score 17.2 running score: 11.9\n",
            "Track generation: 1273..1595 -> 322-tiles track\n",
            "episode  132 score 0.9 avg score 17.1 running score: 11.8\n",
            "Track generation: 1211..1522 -> 311-tiles track\n",
            "episode  133 score 32.8 avg score 17.2 running score: 12.0\n",
            "Track generation: 1129..1422 -> 293-tiles track\n",
            "episode  134 score 8.8 avg score 16.8 running score: 12.0\n",
            "Track generation: 1223..1533 -> 310-tiles track\n",
            "episode  135 score 21.5 avg score 16.7 running score: 12.1\n",
            "Track generation: 1112..1401 -> 289-tiles track\n",
            "episode  136 score 26.0 avg score 16.8 running score: 12.2\n",
            "Track generation: 1155..1448 -> 293-tiles track\n",
            "episode  137 score 8.2 avg score 16.7 running score: 12.2\n",
            "Track generation: 1152..1444 -> 292-tiles track\n"
          ],
          "name": "stdout"
        }
      ]
    },
    {
      "cell_type": "code",
      "metadata": {
        "id": "BDRGIR0Azf3g",
        "colab": {
          "base_uri": "https://localhost:8080/",
          "height": 282
        },
        "outputId": "b3fff0eb-dfb1-4f17-e120-20a4a176d4da"
      },
      "source": [
        "f= open(\"rewards.txt\", \"r\")\n",
        "s=[]\n",
        "for i in f.readlines():\n",
        "    idx=i.find(' \\n')\n",
        "    rew=float(i[0:idx])\n",
        "    s.append(rew)\n",
        "f.close()\n",
        "plt.plot(s)"
      ],
      "execution_count": null,
      "outputs": [
        {
          "output_type": "execute_result",
          "data": {
            "text/plain": [
              "[<matplotlib.lines.Line2D at 0x7f831eab8240>]"
            ]
          },
          "metadata": {
            "tags": []
          },
          "execution_count": 3
        },
        {
          "output_type": "display_data",
          "data": {
            "image/png": "[encoded data removed]",
            "text/plain": [
              "<Figure size 432x288 with 1 Axes>"
            ]
          },
          "metadata": {
            "tags": [],
            "needs_background": "light"
          }
        }
      ]
    },
    {
      "cell_type": "code",
      "metadata": {
        "id": "LT47pj1stT5O"
      },
      "source": [
        ""
      ],
      "execution_count": null,
      "outputs": []
    }
  ]
}